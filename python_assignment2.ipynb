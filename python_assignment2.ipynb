{
  "nbformat": 4,
  "nbformat_minor": 0,
  "metadata": {
    "colab": {
      "name": "python_assignment2.ipynb",
      "provenance": [],
      "authorship_tag": "ABX9TyOjEHPWUpP5wPPrWM+yjdVc",
      "include_colab_link": true
    },
    "kernelspec": {
      "name": "python3",
      "display_name": "Python 3"
    }
  },
  "cells": [
    {
      "cell_type": "markdown",
      "metadata": {
        "id": "view-in-github",
        "colab_type": "text"
      },
      "source": [
        "<a href=\"https://colab.research.google.com/github/rohit19kumar/CiQ/blob/master/python_assignment2.ipynb\" target=\"_parent\"><img src=\"https://colab.research.google.com/assets/colab-badge.svg\" alt=\"Open In Colab\"/></a>"
      ]
    },
    {
      "cell_type": "markdown",
      "metadata": {
        "id": "_BVVdDSR6k7r"
      },
      "source": [
        "1. Create the below pattern using nested for loop in Python.\r\n"
      ]
    },
    {
      "cell_type": "code",
      "metadata": {
        "colab": {
          "base_uri": "https://localhost:8080/"
        },
        "id": "RayK7dp_6XWa",
        "outputId": "6a8935b9-1a72-4853-a7e3-68610a708d57"
      },
      "source": [
        "n=4\r\n",
        "s=0\r\n",
        "for i in range(2*n+1):\r\n",
        "  \r\n",
        "  if(i<=n):\r\n",
        "    print((i+1)*'*')\r\n",
        "  elif(i>n):\r\n",
        "    \r\n",
        "    print((n-s)*'*')\r\n",
        "    s+=1"
      ],
      "execution_count": 15,
      "outputs": [
        {
          "output_type": "stream",
          "text": [
            "*\n",
            "**\n",
            "***\n",
            "****\n",
            "*****\n",
            "****\n",
            "***\n",
            "**\n",
            "*\n"
          ],
          "name": "stdout"
        }
      ]
    },
    {
      "cell_type": "markdown",
      "metadata": {
        "id": "eBIuYhep7BRx"
      },
      "source": [
        "2. Write a Python program to reverse a word after accepting the input from the user."
      ]
    },
    {
      "cell_type": "code",
      "metadata": {
        "colab": {
          "base_uri": "https://localhost:8080/"
        },
        "id": "dtqg-exp7CyM",
        "outputId": "474a69dc-e875-4d24-83c4-7c9dd8755014"
      },
      "source": [
        "n=input()\r\n",
        "a=n[::-1]\r\n",
        "print(a)"
      ],
      "execution_count": 3,
      "outputs": [
        {
          "output_type": "stream",
          "text": [
            "ineuron\n",
            "norueni\n"
          ],
          "name": "stdout"
        }
      ]
    }
  ]
}