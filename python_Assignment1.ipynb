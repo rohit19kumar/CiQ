{
  "nbformat": 4,
  "nbformat_minor": 0,
  "metadata": {
    "colab": {
      "name": "python_Assignment1.ipynb",
      "provenance": [],
      "authorship_tag": "ABX9TyOype0F/xEtRMv6YZNUNI/Q",
      "include_colab_link": true
    },
    "kernelspec": {
      "name": "python3",
      "display_name": "Python 3"
    }
  },
  "cells": [
    {
      "cell_type": "markdown",
      "metadata": {
        "id": "view-in-github",
        "colab_type": "text"
      },
      "source": [
        "<a href=\"https://colab.research.google.com/github/rohit19kumar/CiQ/blob/master/python_Assignment1.ipynb\" target=\"_parent\"><img src=\"https://colab.research.google.com/assets/colab-badge.svg\" alt=\"Open In Colab\"/></a>"
      ]
    },
    {
      "cell_type": "markdown",
      "metadata": {
        "id": "tHFGBVwaQoKK"
      },
      "source": [
        "1. Write a program which will find all such numbers which are divisible by 7 but are not a multiple of 5, between 2000 and 3200 (both included). The numbers obtained should be printed\r\n",
        "in a comma-separated sequence on a single line."
      ]
    },
    {
      "cell_type": "code",
      "metadata": {
        "colab": {
          "base_uri": "https://localhost:8080/"
        },
        "id": "u-lp8hzcQZA1",
        "outputId": "99fd1e3d-c807-4bee-b58f-2f725112801a"
      },
      "source": [
        "def div_seven(a,b):\r\n",
        "  m=[]\r\n",
        "  for i in range(a+1,b):\r\n",
        "    if(i%7==0 and i%5!=0):\r\n",
        "      m.append(i)\r\n",
        "  print(*m,sep=',')\r\n",
        "  \r\n",
        "\r\n",
        "a=2000\r\n",
        "b=3200\r\n",
        "div_seven(a,b)"
      ],
      "execution_count": null,
      "outputs": [
        {
          "output_type": "stream",
          "text": [
            "2002,2009,2016,2023,2037,2044,2051,2058,2072,2079,2086,2093,2107,2114,2121,2128,2142,2149,2156,2163,2177,2184,2191,2198,2212,2219,2226,2233,2247,2254,2261,2268,2282,2289,2296,2303,2317,2324,2331,2338,2352,2359,2366,2373,2387,2394,2401,2408,2422,2429,2436,2443,2457,2464,2471,2478,2492,2499,2506,2513,2527,2534,2541,2548,2562,2569,2576,2583,2597,2604,2611,2618,2632,2639,2646,2653,2667,2674,2681,2688,2702,2709,2716,2723,2737,2744,2751,2758,2772,2779,2786,2793,2807,2814,2821,2828,2842,2849,2856,2863,2877,2884,2891,2898,2912,2919,2926,2933,2947,2954,2961,2968,2982,2989,2996,3003,3017,3024,3031,3038,3052,3059,3066,3073,3087,3094,3101,3108,3122,3129,3136,3143,3157,3164,3171,3178,3192,3199\n"
          ],
          "name": "stdout"
        }
      ]
    },
    {
      "cell_type": "markdown",
      "metadata": {
        "id": "NyXFtxbHSmJq"
      },
      "source": [
        "2. Write a Python program to accept the user's first and last name and then getting them printed in the the reverse order with a space between first name and last name."
      ]
    },
    {
      "cell_type": "code",
      "metadata": {
        "colab": {
          "base_uri": "https://localhost:8080/"
        },
        "id": "IR8Xix_qSxjN",
        "outputId": "9bfe5214-8a7c-4e79-d59b-db174f002abf"
      },
      "source": [
        "def name(First_n,Last_n):\r\n",
        "  a=First_n[::-1]\r\n",
        "  b=Last_n[::-1]\r\n",
        "  print(a+' '+b)\r\n",
        "\r\n",
        "First_n=input()\r\n",
        "Last_n=input()\r\n",
        "name(First_n,Last_n)"
      ],
      "execution_count": null,
      "outputs": [
        {
          "output_type": "stream",
          "text": [
            "Rohit\n",
            "Kumar\n",
            "tihoR ramuK\n"
          ],
          "name": "stdout"
        }
      ]
    },
    {
      "cell_type": "markdown",
      "metadata": {
        "id": "NWj8FTWPTsSc"
      },
      "source": [
        "3. Write a Python program to find the volume of a sphere with diameter 12 cm.Formula: V=4/3 * π * r 3"
      ]
    },
    {
      "cell_type": "code",
      "metadata": {
        "id": "M6qyIFyBUXLx"
      },
      "source": [
        "import math"
      ],
      "execution_count": null,
      "outputs": []
    },
    {
      "cell_type": "code",
      "metadata": {
        "colab": {
          "base_uri": "https://localhost:8080/"
        },
        "id": "sJP3b9cTT1dn",
        "outputId": "fcac6cc6-47a0-4038-e22d-18409ca550c2"
      },
      "source": [
        "def Vol(r):\r\n",
        "  Volume=(4/3*math.pi*r**3)\r\n",
        "  print(Volume)\r\n",
        "  sig=round(Volume,2)\r\n",
        "  print(sig)\r\n",
        "\r\n",
        "D=float(input())\r\n",
        "r=D/2\r\n",
        "Vol(r)"
      ],
      "execution_count": null,
      "outputs": [
        {
          "output_type": "stream",
          "text": [
            "12\n",
            "904.7786842338603\n",
            "904.78\n"
          ],
          "name": "stdout"
        }
      ]
    },
    {
      "cell_type": "markdown",
      "metadata": {
        "id": "RJqYXq2W-uuU"
      },
      "source": [
        "string is immutable and list is mutable\r\n"
      ]
    }
  ]
}