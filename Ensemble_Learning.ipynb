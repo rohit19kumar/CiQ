{
  "nbformat": 4,
  "nbformat_minor": 0,
  "metadata": {
    "kernelspec": {
      "display_name": "Python 3",
      "language": "python",
      "name": "python3"
    },
    "language_info": {
      "codemirror_mode": {
        "name": "ipython",
        "version": 3
      },
      "file_extension": ".py",
      "mimetype": "text/x-python",
      "name": "python",
      "nbconvert_exporter": "python",
      "pygments_lexer": "ipython3",
      "version": "3.8.3"
    },
    "colab": {
      "name": "Ensemble Learning.ipynb",
      "provenance": [],
      "include_colab_link": true
    }
  },
  "cells": [
    {
      "cell_type": "markdown",
      "metadata": {
        "id": "view-in-github",
        "colab_type": "text"
      },
      "source": [
        "<a href=\"https://colab.research.google.com/github/rohit19kumar/CiQ/blob/master/Ensemble_Learning.ipynb\" target=\"_parent\"><img src=\"https://colab.research.google.com/assets/colab-badge.svg\" alt=\"Open In Colab\"/></a>"
      ]
    },
    {
      "cell_type": "code",
      "metadata": {
        "id": "1MNRz3v8-NXa"
      },
      "source": [
        "import numpy as np\n",
        "import pandas as pd"
      ],
      "execution_count": null,
      "outputs": []
    },
    {
      "cell_type": "markdown",
      "metadata": {
        "id": "9ypyaC6I-NXf"
      },
      "source": [
        "# Data Preparation"
      ]
    },
    {
      "cell_type": "code",
      "metadata": {
        "id": "rVg7JPgn-NXg"
      },
      "source": [
        "data = pd.read_csv('E:\\\\Resume_Projects\\\\Corrected_Data.csv')"
      ],
      "execution_count": null,
      "outputs": []
    },
    {
      "cell_type": "code",
      "metadata": {
        "id": "zT8S26Dq-NXg",
        "outputId": "e83f910d-3d8a-488b-f981-aabe458d15cd"
      },
      "source": [
        "data.head()"
      ],
      "execution_count": null,
      "outputs": [
        {
          "output_type": "execute_result",
          "data": {
            "text/html": [
              "<div>\n",
              "<style scoped>\n",
              "    .dataframe tbody tr th:only-of-type {\n",
              "        vertical-align: middle;\n",
              "    }\n",
              "\n",
              "    .dataframe tbody tr th {\n",
              "        vertical-align: top;\n",
              "    }\n",
              "\n",
              "    .dataframe thead th {\n",
              "        text-align: right;\n",
              "    }\n",
              "</style>\n",
              "<table border=\"1\" class=\"dataframe\">\n",
              "  <thead>\n",
              "    <tr style=\"text-align: right;\">\n",
              "      <th></th>\n",
              "      <th>Age</th>\n",
              "      <th>Work_Class</th>\n",
              "      <th>fnlwgt</th>\n",
              "      <th>Education</th>\n",
              "      <th>Ed_num</th>\n",
              "      <th>Marital_status</th>\n",
              "      <th>Occupation</th>\n",
              "      <th>Relationship</th>\n",
              "      <th>Race</th>\n",
              "      <th>Sex</th>\n",
              "      <th>Capital_gain</th>\n",
              "      <th>Capital_loss</th>\n",
              "      <th>Hr_per_wk</th>\n",
              "      <th>Country</th>\n",
              "      <th>y</th>\n",
              "    </tr>\n",
              "  </thead>\n",
              "  <tbody>\n",
              "    <tr>\n",
              "      <th>0</th>\n",
              "      <td>39</td>\n",
              "      <td>State-gov</td>\n",
              "      <td>77516</td>\n",
              "      <td>Bachelors</td>\n",
              "      <td>13</td>\n",
              "      <td>Never-married</td>\n",
              "      <td>Adm-clerical</td>\n",
              "      <td>Not-in-family</td>\n",
              "      <td>White</td>\n",
              "      <td>Male</td>\n",
              "      <td>2174</td>\n",
              "      <td>0</td>\n",
              "      <td>40</td>\n",
              "      <td>United-States</td>\n",
              "      <td>0</td>\n",
              "    </tr>\n",
              "    <tr>\n",
              "      <th>1</th>\n",
              "      <td>50</td>\n",
              "      <td>Self-emp-not-inc</td>\n",
              "      <td>83311</td>\n",
              "      <td>Bachelors</td>\n",
              "      <td>13</td>\n",
              "      <td>Married-civ-spouse</td>\n",
              "      <td>Exec-managerial</td>\n",
              "      <td>Husband</td>\n",
              "      <td>White</td>\n",
              "      <td>Male</td>\n",
              "      <td>0</td>\n",
              "      <td>0</td>\n",
              "      <td>13</td>\n",
              "      <td>United-States</td>\n",
              "      <td>0</td>\n",
              "    </tr>\n",
              "    <tr>\n",
              "      <th>2</th>\n",
              "      <td>38</td>\n",
              "      <td>Private</td>\n",
              "      <td>215646</td>\n",
              "      <td>HS-grad</td>\n",
              "      <td>9</td>\n",
              "      <td>Divorced</td>\n",
              "      <td>Handlers-cleaners</td>\n",
              "      <td>Not-in-family</td>\n",
              "      <td>White</td>\n",
              "      <td>Male</td>\n",
              "      <td>0</td>\n",
              "      <td>0</td>\n",
              "      <td>40</td>\n",
              "      <td>United-States</td>\n",
              "      <td>0</td>\n",
              "    </tr>\n",
              "    <tr>\n",
              "      <th>3</th>\n",
              "      <td>53</td>\n",
              "      <td>Private</td>\n",
              "      <td>234721</td>\n",
              "      <td>11th</td>\n",
              "      <td>7</td>\n",
              "      <td>Married-civ-spouse</td>\n",
              "      <td>Handlers-cleaners</td>\n",
              "      <td>Husband</td>\n",
              "      <td>Black</td>\n",
              "      <td>Male</td>\n",
              "      <td>0</td>\n",
              "      <td>0</td>\n",
              "      <td>40</td>\n",
              "      <td>United-States</td>\n",
              "      <td>0</td>\n",
              "    </tr>\n",
              "    <tr>\n",
              "      <th>4</th>\n",
              "      <td>28</td>\n",
              "      <td>Private</td>\n",
              "      <td>338409</td>\n",
              "      <td>Bachelors</td>\n",
              "      <td>13</td>\n",
              "      <td>Married-civ-spouse</td>\n",
              "      <td>Prof-specialty</td>\n",
              "      <td>Wife</td>\n",
              "      <td>Black</td>\n",
              "      <td>Female</td>\n",
              "      <td>0</td>\n",
              "      <td>0</td>\n",
              "      <td>40</td>\n",
              "      <td>Cuba</td>\n",
              "      <td>0</td>\n",
              "    </tr>\n",
              "  </tbody>\n",
              "</table>\n",
              "</div>"
            ],
            "text/plain": [
              "   Age         Work_Class  fnlwgt   Education  Ed_num       Marital_status  \\\n",
              "0   39          State-gov   77516   Bachelors      13        Never-married   \n",
              "1   50   Self-emp-not-inc   83311   Bachelors      13   Married-civ-spouse   \n",
              "2   38            Private  215646     HS-grad       9             Divorced   \n",
              "3   53            Private  234721        11th       7   Married-civ-spouse   \n",
              "4   28            Private  338409   Bachelors      13   Married-civ-spouse   \n",
              "\n",
              "           Occupation    Relationship    Race      Sex  Capital_gain  \\\n",
              "0        Adm-clerical   Not-in-family   White     Male          2174   \n",
              "1     Exec-managerial         Husband   White     Male             0   \n",
              "2   Handlers-cleaners   Not-in-family   White     Male             0   \n",
              "3   Handlers-cleaners         Husband   Black     Male             0   \n",
              "4      Prof-specialty            Wife   Black   Female             0   \n",
              "\n",
              "   Capital_loss  Hr_per_wk         Country  y  \n",
              "0             0         40   United-States  0  \n",
              "1             0         13   United-States  0  \n",
              "2             0         40   United-States  0  \n",
              "3             0         40   United-States  0  \n",
              "4             0         40            Cuba  0  "
            ]
          },
          "metadata": {
            "tags": []
          },
          "execution_count": 3
        }
      ]
    },
    {
      "cell_type": "code",
      "metadata": {
        "id": "FUKkBNVe-NXh",
        "outputId": "272cfd71-ec90-4fcb-d996-83c850a650cf"
      },
      "source": [
        "data.shape"
      ],
      "execution_count": null,
      "outputs": [
        {
          "output_type": "execute_result",
          "data": {
            "text/plain": [
              "(32561, 15)"
            ]
          },
          "metadata": {
            "tags": []
          },
          "execution_count": 5
        }
      ]
    },
    {
      "cell_type": "code",
      "metadata": {
        "id": "leErPHrW-NXi",
        "outputId": "14c61c50-2ab5-4c40-e130-b6f8113eaf97"
      },
      "source": [
        "data.isnull().sum()"
      ],
      "execution_count": null,
      "outputs": [
        {
          "output_type": "execute_result",
          "data": {
            "text/plain": [
              "Age                  0\n",
              "Work_Class        1836\n",
              "fnlwgt               0\n",
              "Education            0\n",
              "Ed_num               0\n",
              "Marital_status       0\n",
              "Occupation        1843\n",
              "Relationship         0\n",
              "Race                 0\n",
              "Sex                  0\n",
              "Capital_gain         0\n",
              "Capital_loss         0\n",
              "Hr_per_wk            0\n",
              "Country            583\n",
              "y                    0\n",
              "dtype: int64"
            ]
          },
          "metadata": {
            "tags": []
          },
          "execution_count": 4
        }
      ]
    },
    {
      "cell_type": "code",
      "metadata": {
        "id": "OBrhsqcj-NXj"
      },
      "source": [
        "data = pd.DataFrame(data.dropna(how='any'))"
      ],
      "execution_count": null,
      "outputs": []
    },
    {
      "cell_type": "code",
      "metadata": {
        "id": "CUS1N6Gt-NXj",
        "outputId": "7ef80df7-93f8-452d-bb21-428bda2c41f3"
      },
      "source": [
        "data.shape"
      ],
      "execution_count": null,
      "outputs": [
        {
          "output_type": "execute_result",
          "data": {
            "text/plain": [
              "(30162, 15)"
            ]
          },
          "metadata": {
            "tags": []
          },
          "execution_count": 7
        }
      ]
    },
    {
      "cell_type": "code",
      "metadata": {
        "id": "t0foLpK0-NXk",
        "outputId": "2cffa705-722d-4159-c913-edb9bec4a5bc"
      },
      "source": [
        "a = data['Work_Class'].astype('category').cat.categories.tolist()\n",
        "a1 = {'Work_Class' : {k: v for k,v in zip(a,list(range(1,len(a)+1)))}}\n",
        "print(a1)\n",
        "data.replace(a1, inplace=True)"
      ],
      "execution_count": null,
      "outputs": [
        {
          "output_type": "stream",
          "text": [
            "{'Work_Class': {' Federal-gov': 1, ' Local-gov': 2, ' Private': 3, ' Self-emp-inc': 4, ' Self-emp-not-inc': 5, ' State-gov': 6, ' Without-pay': 7}}\n"
          ],
          "name": "stdout"
        }
      ]
    },
    {
      "cell_type": "code",
      "metadata": {
        "id": "KjHeICBT-NXk",
        "outputId": "14a058cb-f10d-4349-afd7-39a30df9bc50"
      },
      "source": [
        "b = data['Marital_status'].astype('category').cat.categories.tolist()\n",
        "b1 = {'Marital_status' : {k: v for k,v in zip(b,list(range(1,len(b)+1)))}}\n",
        "print(b1)\n",
        "data.replace(b1, inplace=True)"
      ],
      "execution_count": null,
      "outputs": [
        {
          "output_type": "stream",
          "text": [
            "{'Marital_status': {' Divorced': 1, ' Married-AF-spouse': 2, ' Married-civ-spouse': 3, ' Married-spouse-absent': 4, ' Never-married': 5, ' Separated': 6, ' Widowed': 7}}\n"
          ],
          "name": "stdout"
        }
      ]
    },
    {
      "cell_type": "code",
      "metadata": {
        "id": "VZtftLP1-NXl",
        "outputId": "8906c87e-2f01-4c7e-8e10-3229df077bac"
      },
      "source": [
        "c = data['Occupation'].astype('category').cat.categories.tolist()\n",
        "c1 = {'Occupation' : {k: v for k,v in zip(c,list(range(1,len(c)+1)))}}\n",
        "print(c1)\n",
        "data.replace(c1, inplace=True)"
      ],
      "execution_count": null,
      "outputs": [
        {
          "output_type": "stream",
          "text": [
            "{'Occupation': {' Adm-clerical': 1, ' Armed-Forces': 2, ' Craft-repair': 3, ' Exec-managerial': 4, ' Farming-fishing': 5, ' Handlers-cleaners': 6, ' Machine-op-inspct': 7, ' Other-service': 8, ' Priv-house-serv': 9, ' Prof-specialty': 10, ' Protective-serv': 11, ' Sales': 12, ' Tech-support': 13, ' Transport-moving': 14}}\n"
          ],
          "name": "stdout"
        }
      ]
    },
    {
      "cell_type": "code",
      "metadata": {
        "id": "7ioJQ20I-NXl",
        "outputId": "cc471891-0d3d-4237-f40a-1c4e86e38118"
      },
      "source": [
        "d = data['Education'].astype('category').cat.categories.tolist()\n",
        "d1 = {'Education' : {k: v for k,v in zip(d,list(range(1,len(d)+1)))}}\n",
        "print(d1)\n",
        "data.replace(d1, inplace=True)"
      ],
      "execution_count": null,
      "outputs": [
        {
          "output_type": "stream",
          "text": [
            "{'Education': {' 10th': 1, ' 11th': 2, ' 12th': 3, ' 1st-4th': 4, ' 5th-6th': 5, ' 7th-8th': 6, ' 9th': 7, ' Assoc-acdm': 8, ' Assoc-voc': 9, ' Bachelors': 10, ' Doctorate': 11, ' HS-grad': 12, ' Masters': 13, ' Preschool': 14, ' Prof-school': 15, ' Some-college': 16}}\n"
          ],
          "name": "stdout"
        }
      ]
    },
    {
      "cell_type": "code",
      "metadata": {
        "id": "azLW4Kae-NXm",
        "outputId": "dfdd06e1-f7f9-49b3-9746-a1ab6f7daf41"
      },
      "source": [
        "e = data['Relationship'].astype('category').cat.categories.tolist()\n",
        "e1 = {'Relationship' : {k: v for k,v in zip(e,list(range(1,len(e)+1)))}}\n",
        "print(e1)\n",
        "data.replace(e1, inplace=True)"
      ],
      "execution_count": null,
      "outputs": [
        {
          "output_type": "stream",
          "text": [
            "{'Relationship': {' Husband': 1, ' Not-in-family': 2, ' Other-relative': 3, ' Own-child': 4, ' Unmarried': 5, ' Wife': 6}}\n"
          ],
          "name": "stdout"
        }
      ]
    },
    {
      "cell_type": "code",
      "metadata": {
        "id": "Qo0G6MkH-NXm",
        "outputId": "936d57e3-0fdf-481f-be49-a4955d337b02"
      },
      "source": [
        "f = data['Race'].astype('category').cat.categories.tolist()\n",
        "f1 = {'Race' : {k: v for k,v in zip(f,list(range(1,len(f)+1)))}}\n",
        "print(f1)\n",
        "data.replace(f1, inplace=True)"
      ],
      "execution_count": null,
      "outputs": [
        {
          "output_type": "stream",
          "text": [
            "{'Race': {' Amer-Indian-Eskimo': 1, ' Asian-Pac-Islander': 2, ' Black': 3, ' Other': 4, ' White': 5}}\n"
          ],
          "name": "stdout"
        }
      ]
    },
    {
      "cell_type": "code",
      "metadata": {
        "id": "bTC0OeS--NXn",
        "outputId": "71d80a6f-b55f-495a-8c01-b89224eecdfe"
      },
      "source": [
        "g = data['Sex'].astype('category').cat.categories.tolist()\n",
        "g1 = {'Sex' : {k: v for k,v in zip(g,list(range(1,len(g)+1)))}}\n",
        "print(g1)\n",
        "data.replace(g1, inplace=True)"
      ],
      "execution_count": null,
      "outputs": [
        {
          "output_type": "stream",
          "text": [
            "{'Sex': {' Female': 1, ' Male': 2}}\n"
          ],
          "name": "stdout"
        }
      ]
    },
    {
      "cell_type": "code",
      "metadata": {
        "id": "TWEZiC99-NXn",
        "outputId": "fd49edad-15b5-45bc-9c88-ee3db488c70f"
      },
      "source": [
        "h = data['Country'].astype('category').cat.categories.tolist()\n",
        "h1 = {'Country' : {k: v for k,v in zip(h,list(range(1,len(h)+1)))}}\n",
        "print(h1)\n",
        "data.replace(h1, inplace=True)"
      ],
      "execution_count": null,
      "outputs": [
        {
          "output_type": "stream",
          "text": [
            "{'Country': {' Cambodia': 1, ' Canada': 2, ' China': 3, ' Columbia': 4, ' Cuba': 5, ' Dominican-Republic': 6, ' Ecuador': 7, ' El-Salvador': 8, ' England': 9, ' France': 10, ' Germany': 11, ' Greece': 12, ' Guatemala': 13, ' Haiti': 14, ' Holand-Netherlands': 15, ' Honduras': 16, ' Hong': 17, ' Hungary': 18, ' India': 19, ' Iran': 20, ' Ireland': 21, ' Italy': 22, ' Jamaica': 23, ' Japan': 24, ' Laos': 25, ' Mexico': 26, ' Nicaragua': 27, ' Outlying-US(Guam-USVI-etc)': 28, ' Peru': 29, ' Philippines': 30, ' Poland': 31, ' Portugal': 32, ' Puerto-Rico': 33, ' Scotland': 34, ' South': 35, ' Taiwan': 36, ' Thailand': 37, ' Trinadad&Tobago': 38, ' United-States': 39, ' Vietnam': 40, ' Yugoslavia': 41}}\n"
          ],
          "name": "stdout"
        }
      ]
    },
    {
      "cell_type": "code",
      "metadata": {
        "id": "sVz87hXf-NXo",
        "outputId": "8f76b84a-90a3-4ed6-dc12-a2a101997031"
      },
      "source": [
        "data.head()"
      ],
      "execution_count": null,
      "outputs": [
        {
          "output_type": "execute_result",
          "data": {
            "text/html": [
              "<div>\n",
              "<style scoped>\n",
              "    .dataframe tbody tr th:only-of-type {\n",
              "        vertical-align: middle;\n",
              "    }\n",
              "\n",
              "    .dataframe tbody tr th {\n",
              "        vertical-align: top;\n",
              "    }\n",
              "\n",
              "    .dataframe thead th {\n",
              "        text-align: right;\n",
              "    }\n",
              "</style>\n",
              "<table border=\"1\" class=\"dataframe\">\n",
              "  <thead>\n",
              "    <tr style=\"text-align: right;\">\n",
              "      <th></th>\n",
              "      <th>Age</th>\n",
              "      <th>Work_Class</th>\n",
              "      <th>fnlwgt</th>\n",
              "      <th>Education</th>\n",
              "      <th>Ed_num</th>\n",
              "      <th>Marital_status</th>\n",
              "      <th>Occupation</th>\n",
              "      <th>Relationship</th>\n",
              "      <th>Race</th>\n",
              "      <th>Sex</th>\n",
              "      <th>Capital_gain</th>\n",
              "      <th>Capital_loss</th>\n",
              "      <th>Hr_per_wk</th>\n",
              "      <th>Country</th>\n",
              "      <th>y</th>\n",
              "    </tr>\n",
              "  </thead>\n",
              "  <tbody>\n",
              "    <tr>\n",
              "      <th>0</th>\n",
              "      <td>39</td>\n",
              "      <td>6</td>\n",
              "      <td>77516</td>\n",
              "      <td>10</td>\n",
              "      <td>13</td>\n",
              "      <td>5</td>\n",
              "      <td>1</td>\n",
              "      <td>2</td>\n",
              "      <td>5</td>\n",
              "      <td>2</td>\n",
              "      <td>2174</td>\n",
              "      <td>0</td>\n",
              "      <td>40</td>\n",
              "      <td>39</td>\n",
              "      <td>0</td>\n",
              "    </tr>\n",
              "    <tr>\n",
              "      <th>1</th>\n",
              "      <td>50</td>\n",
              "      <td>5</td>\n",
              "      <td>83311</td>\n",
              "      <td>10</td>\n",
              "      <td>13</td>\n",
              "      <td>3</td>\n",
              "      <td>4</td>\n",
              "      <td>1</td>\n",
              "      <td>5</td>\n",
              "      <td>2</td>\n",
              "      <td>0</td>\n",
              "      <td>0</td>\n",
              "      <td>13</td>\n",
              "      <td>39</td>\n",
              "      <td>0</td>\n",
              "    </tr>\n",
              "    <tr>\n",
              "      <th>2</th>\n",
              "      <td>38</td>\n",
              "      <td>3</td>\n",
              "      <td>215646</td>\n",
              "      <td>12</td>\n",
              "      <td>9</td>\n",
              "      <td>1</td>\n",
              "      <td>6</td>\n",
              "      <td>2</td>\n",
              "      <td>5</td>\n",
              "      <td>2</td>\n",
              "      <td>0</td>\n",
              "      <td>0</td>\n",
              "      <td>40</td>\n",
              "      <td>39</td>\n",
              "      <td>0</td>\n",
              "    </tr>\n",
              "    <tr>\n",
              "      <th>3</th>\n",
              "      <td>53</td>\n",
              "      <td>3</td>\n",
              "      <td>234721</td>\n",
              "      <td>2</td>\n",
              "      <td>7</td>\n",
              "      <td>3</td>\n",
              "      <td>6</td>\n",
              "      <td>1</td>\n",
              "      <td>3</td>\n",
              "      <td>2</td>\n",
              "      <td>0</td>\n",
              "      <td>0</td>\n",
              "      <td>40</td>\n",
              "      <td>39</td>\n",
              "      <td>0</td>\n",
              "    </tr>\n",
              "    <tr>\n",
              "      <th>4</th>\n",
              "      <td>28</td>\n",
              "      <td>3</td>\n",
              "      <td>338409</td>\n",
              "      <td>10</td>\n",
              "      <td>13</td>\n",
              "      <td>3</td>\n",
              "      <td>10</td>\n",
              "      <td>6</td>\n",
              "      <td>3</td>\n",
              "      <td>1</td>\n",
              "      <td>0</td>\n",
              "      <td>0</td>\n",
              "      <td>40</td>\n",
              "      <td>5</td>\n",
              "      <td>0</td>\n",
              "    </tr>\n",
              "  </tbody>\n",
              "</table>\n",
              "</div>"
            ],
            "text/plain": [
              "   Age  Work_Class  fnlwgt  Education  Ed_num  Marital_status  Occupation  \\\n",
              "0   39           6   77516         10      13               5           1   \n",
              "1   50           5   83311         10      13               3           4   \n",
              "2   38           3  215646         12       9               1           6   \n",
              "3   53           3  234721          2       7               3           6   \n",
              "4   28           3  338409         10      13               3          10   \n",
              "\n",
              "   Relationship  Race  Sex  Capital_gain  Capital_loss  Hr_per_wk  Country  y  \n",
              "0             2     5    2          2174             0         40       39  0  \n",
              "1             1     5    2             0             0         13       39  0  \n",
              "2             2     5    2             0             0         40       39  0  \n",
              "3             1     3    2             0             0         40       39  0  \n",
              "4             6     3    1             0             0         40        5  0  "
            ]
          },
          "metadata": {
            "tags": []
          },
          "execution_count": 16
        }
      ]
    },
    {
      "cell_type": "code",
      "metadata": {
        "id": "7EYIgsry-NXo"
      },
      "source": [
        "X = data.iloc[:, :-1]\n",
        "y = data.iloc[:, -1]"
      ],
      "execution_count": null,
      "outputs": []
    },
    {
      "cell_type": "markdown",
      "metadata": {
        "id": "USdOYdS1-NXp"
      },
      "source": [
        "# Feature Selection using Chi-Squared Test"
      ]
    },
    {
      "cell_type": "code",
      "metadata": {
        "id": "3KBu5lC1-NXp"
      },
      "source": [
        "from sklearn.feature_selection import chi2,SelectKBest,SelectPercentile\n",
        "from sklearn.metrics import accuracy_score\n",
        "from sklearn.model_selection import train_test_split"
      ],
      "execution_count": null,
      "outputs": []
    },
    {
      "cell_type": "code",
      "metadata": {
        "id": "6WGyd-nm-NXp"
      },
      "source": [
        "X_train, X_test, y_train, y_test = train_test_split(X, y, test_size = 0.2, random_state = 1)"
      ],
      "execution_count": null,
      "outputs": []
    },
    {
      "cell_type": "code",
      "metadata": {
        "id": "rp2NEJqn-NXq",
        "outputId": "3f323174-42a4-4660-ee74-6202c0aa82be"
      },
      "source": [
        "f_score = chi2(X_train,y_train)\n",
        "f_score"
      ],
      "execution_count": null,
      "outputs": [
        {
          "output_type": "execute_result",
          "data": {
            "text/plain": [
              "(array([6.34752408e+03, 2.93098147e+00, 1.62348041e+05, 1.78562474e+02,\n",
              "        1.72824906e+03, 5.45576551e+02, 1.61562002e+02, 1.57862010e+03,\n",
              "        1.89585671e+01, 1.47096987e+02, 5.89673999e+07, 9.53231241e+05,\n",
              "        4.62658694e+03, 1.12544000e+01]),\n",
              " array([0.00000000e+000, 8.68946519e-002, 0.00000000e+000, 9.98383644e-041,\n",
              "        0.00000000e+000, 1.15418916e-120, 5.15679270e-037, 0.00000000e+000,\n",
              "        1.33588079e-005, 7.47359392e-034, 0.00000000e+000, 0.00000000e+000,\n",
              "        0.00000000e+000, 7.94344952e-004]))"
            ]
          },
          "metadata": {
            "tags": []
          },
          "execution_count": 22
        }
      ]
    },
    {
      "cell_type": "code",
      "metadata": {
        "id": "H4fCW1Aa-NXr",
        "outputId": "0bc7969b-db7c-45a6-8756-58f1ae806101"
      },
      "source": [
        "chi_values = pd.Series(f_score[0], index=X_train.columns )\n",
        "chi_values.sort_values(ascending=True,inplace=True)\n",
        "chi_values"
      ],
      "execution_count": null,
      "outputs": [
        {
          "output_type": "execute_result",
          "data": {
            "text/plain": [
              "Work_Class        2.930981e+00\n",
              "Country           1.125440e+01\n",
              "Race              1.895857e+01\n",
              "Sex               1.470970e+02\n",
              "Occupation        1.615620e+02\n",
              "Education         1.785625e+02\n",
              "Marital_status    5.455766e+02\n",
              "Relationship      1.578620e+03\n",
              "Ed_num            1.728249e+03\n",
              "Hr_per_wk         4.626587e+03\n",
              "Age               6.347524e+03\n",
              "fnlwgt            1.623480e+05\n",
              "Capital_loss      9.532312e+05\n",
              "Capital_gain      5.896740e+07\n",
              "dtype: float64"
            ]
          },
          "metadata": {
            "tags": []
          },
          "execution_count": 24
        }
      ]
    },
    {
      "cell_type": "code",
      "metadata": {
        "id": "MDy0sd98-NXs"
      },
      "source": [
        "X_train = X_train[['Work_Class','Country','Race','Sex','Occupation','Education','Marital_status']]\n",
        "X_test = X_test[['Work_Class','Country','Race','Sex','Occupation','Education','Marital_status']]"
      ],
      "execution_count": null,
      "outputs": []
    },
    {
      "cell_type": "markdown",
      "metadata": {
        "id": "8kJZqyru-NXs"
      },
      "source": [
        "# Classification Models"
      ]
    },
    {
      "cell_type": "code",
      "metadata": {
        "id": "oxIQA5M2-NXt"
      },
      "source": [
        "from sklearn.ensemble import RandomForestClassifier"
      ],
      "execution_count": null,
      "outputs": []
    },
    {
      "cell_type": "code",
      "metadata": {
        "id": "0HSPvJ28-NXt"
      },
      "source": [
        "def rf(X_train,X_test,y_train,y_test):\n",
        "    classifier = RandomForestClassifier(n_estimators = 1000, criterion = 'gini', random_state = 0)\n",
        "    classifier.fit(X_train, y_train)\n",
        "    y_pred = classifier.predict(X_test)\n",
        "    print('Accuracy:',accuracy_score(y_test,y_pred))"
      ],
      "execution_count": null,
      "outputs": []
    },
    {
      "cell_type": "code",
      "metadata": {
        "id": "XCORrDVl-NXt"
      },
      "source": [
        "from sklearn.ensemble import AdaBoostClassifier"
      ],
      "execution_count": null,
      "outputs": []
    },
    {
      "cell_type": "code",
      "metadata": {
        "id": "FQzIeq9t-NXu"
      },
      "source": [
        "def ada(X_train,X_test,y_train,y_test):\n",
        "    classifier = AdaBoostClassifier(n_estimators = 1000, random_state = 0)\n",
        "    classifier.fit(X_train, y_train)\n",
        "    y_pred = classifier.predict(X_test)\n",
        "    print('Accuracy:',accuracy_score(y_test,y_pred))"
      ],
      "execution_count": null,
      "outputs": []
    },
    {
      "cell_type": "code",
      "metadata": {
        "id": "lgR4MNEX-NXu"
      },
      "source": [
        "from xgboost import XGBClassifier"
      ],
      "execution_count": null,
      "outputs": []
    },
    {
      "cell_type": "code",
      "metadata": {
        "id": "sdRvw2J7-NXu"
      },
      "source": [
        "def xg(X_train,X_test,y_train,y_test):\n",
        "    classifier = XGBClassifier(random_state=0, n_jobs=-1, learning_rate=0.1,n_estimators=1000, max_depth=3)\n",
        "    classifier.fit(X_train, y_train)\n",
        "    y_pred = classifier.predict(X_test)\n",
        "    print('Accuracy:',accuracy_score(y_test,y_pred))"
      ],
      "execution_count": null,
      "outputs": []
    },
    {
      "cell_type": "code",
      "metadata": {
        "id": "w2imfNGX-NXv",
        "outputId": "8074ae2a-eba4-4b44-b97f-2c7578f2efaf"
      },
      "source": [
        "%%time\n",
        "print(\"Random Forest\")\n",
        "rf(X_train,X_test,y_train,y_test)"
      ],
      "execution_count": null,
      "outputs": [
        {
          "output_type": "stream",
          "text": [
            "Random Forest\n",
            "Accuracy: 0.8262887452345433\n",
            "Wall time: 24.1 s\n"
          ],
          "name": "stdout"
        }
      ]
    },
    {
      "cell_type": "code",
      "metadata": {
        "id": "DE4J8SHD-NXv",
        "outputId": "4bc2ff99-fc69-4782-812a-9be533b30577"
      },
      "source": [
        "%%time\n",
        "print(\"Adaboost\")\n",
        "ada(X_train,X_test,y_train,y_test)"
      ],
      "execution_count": null,
      "outputs": [
        {
          "output_type": "stream",
          "text": [
            "Adaboost\n",
            "Accuracy: 0.8264545002486325\n",
            "Wall time: 17.3 s\n"
          ],
          "name": "stdout"
        }
      ]
    },
    {
      "cell_type": "code",
      "metadata": {
        "id": "CYeDoJ7t-NXw",
        "outputId": "b3d9c42e-cb2d-43c4-d1ab-b32a2f99973f"
      },
      "source": [
        "%%time\n",
        "print(\"XGBoost\")\n",
        "xg(X_train,X_test,y_train,y_test)"
      ],
      "execution_count": null,
      "outputs": [
        {
          "output_type": "stream",
          "text": [
            "XGBoost\n",
            "Accuracy: 0.8330847008121995\n",
            "Wall time: 5.08 s\n"
          ],
          "name": "stdout"
        }
      ]
    },
    {
      "cell_type": "code",
      "metadata": {
        "id": "V60zSrCT-NXw"
      },
      "source": [
        "from vecstack import stacking\n"
      ],
      "execution_count": null,
      "outputs": []
    },
    {
      "cell_type": "code",
      "metadata": {
        "id": "Q-V9u2Yd-NXw"
      },
      "source": [
        "models = [\n",
        "    AdaBoostClassifier(n_estimators = 1000, random_state = 0),\n",
        "        \n",
        "    RandomForestClassifier(random_state=0, n_jobs=-1, \n",
        "                           n_estimators=1000, max_depth=3),\n",
        "        \n",
        "    XGBClassifier(random_state=0, n_jobs=-1, learning_rate=0.1, \n",
        "                  n_estimators=1000, max_depth=3)\n",
        "]"
      ],
      "execution_count": null,
      "outputs": []
    },
    {
      "cell_type": "code",
      "metadata": {
        "id": "3jmYqM7p-NXx",
        "outputId": "414c8552-d5ea-4f64-b191-1338bc18d923"
      },
      "source": [
        "S_train, S_test = stacking(models,                   \n",
        "                           X_train, y_train, X_test,   \n",
        "                           regression=False, \n",
        "     \n",
        "                           mode='oof_pred_bag', \n",
        "       \n",
        "                           needs_proba=False,\n",
        "         \n",
        "                           save_dir=None, \n",
        "            \n",
        "                           metric=accuracy_score, \n",
        "    \n",
        "                           n_folds=4, \n",
        "                 \n",
        "                           stratified=True,\n",
        "            \n",
        "                           shuffle=True,  \n",
        "            \n",
        "                           random_state=0,    \n",
        "         \n",
        "                           verbose=2)"
      ],
      "execution_count": null,
      "outputs": [
        {
          "output_type": "stream",
          "text": [
            "task:         [classification]\n",
            "n_classes:    [2]\n",
            "metric:       [accuracy_score]\n",
            "mode:         [oof_pred_bag]\n",
            "n_models:     [3]\n",
            "\n",
            "model  0:     [AdaBoostClassifier]\n",
            "    fold  0:  [0.82214487]\n",
            "    fold  1:  [0.83255968]\n",
            "    fold  2:  [0.82775199]\n",
            "    fold  3:  [0.81448939]\n",
            "    ----\n",
            "    MEAN:     [0.82423648] + [0.00672709]\n",
            "    FULL:     [0.82423640]\n",
            "\n",
            "model  1:     [RandomForestClassifier]\n",
            "    fold  0:  [0.75302503]\n",
            "    fold  1:  [0.75314987]\n",
            "    fold  2:  [0.75314987]\n",
            "    fold  3:  [0.75298408]\n",
            "    ----\n",
            "    MEAN:     [0.75307721] + [0.00007408]\n",
            "    FULL:     [0.75307721]\n",
            "\n",
            "model  2:     [XGBClassifier]\n",
            "    fold  0:  [0.82330515]\n",
            "    fold  1:  [0.83852785]\n",
            "    fold  2:  [0.82592838]\n",
            "    fold  3:  [0.81332891]\n",
            "    ----\n",
            "    MEAN:     [0.82527258] + [0.00898129]\n",
            "    FULL:     [0.82527249]\n",
            "\n"
          ],
          "name": "stdout"
        }
      ]
    },
    {
      "cell_type": "code",
      "metadata": {
        "id": "XsmVF_7n-NXx",
        "outputId": "cb919c3d-4a8d-4fc2-cbab-b23e322fa659"
      },
      "source": [
        "model = AdaBoostClassifier(random_state=0, learning_rate=0.1, \n",
        "                      n_estimators=1000)\n",
        "    \n",
        "model = model.fit(S_train, y_train)\n",
        "y_pred = model.predict(S_test)\n",
        "print('Final prediction score: [%.8f]' % accuracy_score(y_test, y_pred))"
      ],
      "execution_count": null,
      "outputs": [
        {
          "output_type": "stream",
          "text": [
            "Final prediction score: [0.82744903]\n"
          ],
          "name": "stdout"
        }
      ]
    },
    {
      "cell_type": "code",
      "metadata": {
        "id": "daQAnRDH-NXy",
        "outputId": "39bb6320-7b8b-44ca-8657-fbc9c57d75a7"
      },
      "source": [
        "model = XGBClassifier(random_state=0, n_jobs=-1, learning_rate=0.1, \n",
        "                      n_estimators=1000, max_depth=3)\n",
        "    \n",
        "model = model.fit(S_train, y_train)\n",
        "y_pred = model.predict(S_test)\n",
        "print('Final prediction score: [%.8f]' % accuracy_score(y_test, y_pred))"
      ],
      "execution_count": null,
      "outputs": [
        {
          "output_type": "stream",
          "text": [
            "Final prediction score: [0.82744903]\n"
          ],
          "name": "stdout"
        }
      ]
    },
    {
      "cell_type": "code",
      "metadata": {
        "id": "xI7E12CQ-NXy",
        "outputId": "7969b52f-bc3d-4644-de0f-cc8cdba10bba"
      },
      "source": [
        "model = RandomForestClassifier(random_state=0,\n",
        "                      n_estimators=1000)\n",
        "    \n",
        "model = model.fit(S_train, y_train)\n",
        "y_pred = model.predict(S_test)\n",
        "print('Final prediction score: [%.8f]' % accuracy_score(y_test, y_pred))"
      ],
      "execution_count": null,
      "outputs": [
        {
          "output_type": "stream",
          "text": [
            "Final prediction score: [0.82744903]\n"
          ],
          "name": "stdout"
        }
      ]
    },
    {
      "cell_type": "code",
      "metadata": {
        "id": "VqlQ32rL-NXy"
      },
      "source": [
        ""
      ],
      "execution_count": null,
      "outputs": []
    }
  ]
}